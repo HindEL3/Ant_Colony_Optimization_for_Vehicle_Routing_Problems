{
  "nbformat": 4,
  "nbformat_minor": 0,
  "metadata": {
    "colab": {
      "provenance": []
    },
    "kernelspec": {
      "name": "python3",
      "display_name": "Python 3"
    },
    "language_info": {
      "name": "python"
    }
  },
  "cells": [
    {
      "cell_type": "code",
      "execution_count": 23,
      "metadata": {
        "id": "mMahlvJcSgZT"
      },
      "outputs": [],
      "source": [
        "import numpy as np"
      ]
    },
    {
      "cell_type": "code",
      "source": [
        "# Define a class for a simple queue\n",
        "class MyQUEUE:\n",
        "    def __init__(self):\n",
        "        self.holder = []\n",
        "\n",
        "    def enqueue(self, val):\n",
        "        self.holder.append(val)\n",
        "\n",
        "    def dequeue(self):\n",
        "        val = None\n",
        "        try:\n",
        "            val = self.holder[0]\n",
        "            if len(self.holder) == 1:\n",
        "                self.holder = []\n",
        "            else:\n",
        "                self.holder = self.holder[1:]\n",
        "        except IndexError:\n",
        "            pass\n",
        "        return val\n",
        "    def IsEmpty(self):\n",
        "        return len(self.holder) == 0"
      ],
      "metadata": {
        "id": "6izynK6OSsP3"
      },
      "execution_count": 34,
      "outputs": []
    },
    {
      "cell_type": "code",
      "source": [
        "# Function to find all possible paths in a graph using a queue\n",
        "def chemins(graph, start, end, q):\n",
        "    L = []\n",
        "    q.enqueue([start])\n",
        "\n",
        "    while not q.IsEmpty():\n",
        "        tmp_path = q.dequeue()\n",
        "        last_node = tmp_path[-1]\n",
        "\n",
        "        if last_node == end:\n",
        "            L.append(tmp_path)\n",
        "        else:\n",
        "            for link_node, value in enumerate(graph[last_node]):\n",
        "                if value == 1 and link_node not in tmp_path:\n",
        "                    new_path = tmp_path + [link_node]\n",
        "                    q.enqueue(new_path)\n",
        "\n",
        "    return L"
      ],
      "metadata": {
        "id": "Idkw8xfES001"
      },
      "execution_count": 35,
      "outputs": []
    },
    {
      "cell_type": "code",
      "source": [
        "# Function to update the state matrix based on certain conditions\n",
        "def etatupd(M, i, j, seuil, S, AS, NTL):\n",
        "    for x in range(len(M)):\n",
        "        for y in range(len(M)):\n",
        "            if M[x][y] == 1 and x != y:\n",
        "                if AS[x][y] < seuil[x][y] or S[x][y] == 0:\n",
        "                    if NTL[x][y] == 1:\n",
        "                        S[x][y] = 0\n",
        "                    else:\n",
        "                        NTL[x][y] = NTL[x][y] - 1\n",
        "                        S[x][y] = 1\n",
        "    return [S, NTL]\n"
      ],
      "metadata": {
        "id": "HFIHQyINS5fG"
      },
      "execution_count": 36,
      "outputs": []
    },
    {
      "cell_type": "code",
      "source": [
        "# Function to calculate a specific value P based on given parameters\n",
        "def calculateP(M, i, j, NV, lg, AS, NTL, S, a, b, c, d):\n",
        "    n = 0\n",
        "    [S, NTL] = etatupd(M, i, j, seuil, S, AS, NTL)\n",
        "\n",
        "    for k in range(len(M)):\n",
        "        if M[i][k] == 1:\n",
        "            denominator = (((NV[i][k]) ** a) * ((lg[i][k]) ** c))\n",
        "            if denominator != 0:\n",
        "                n += (((AS[i][k]) ** b) * ((NTL[i][k]) ** d) * S[i][k]) / denominator\n",
        "\n",
        "    try:\n",
        "        denominator = (((NV[i][j]) ** a) * ((lg[i][j]) ** c))\n",
        "        if denominator != 0:\n",
        "            P = ((AS[i][j] ** b) * ((NTL[i][j]) ** d) * (S[i][j])) / denominator\n",
        "            return P\n",
        "        else:\n",
        "            return 0\n",
        "    except ZeroDivisionError:\n",
        "        return 0"
      ],
      "metadata": {
        "id": "DpKAnKVCWade"
      },
      "execution_count": 37,
      "outputs": []
    },
    {
      "cell_type": "code",
      "source": [
        "# Function to count the number of successors for a node\n",
        "def nomsucc(i, M):\n",
        "    nomsucc = 0\n",
        "    for j in range(len(M)):\n",
        "        if M[i][j] != 0:\n",
        "            nomsucc += 1\n",
        "    return nomsucc"
      ],
      "metadata": {
        "id": "E3-GSrbAWjE9"
      },
      "execution_count": 38,
      "outputs": []
    },
    {
      "cell_type": "code",
      "source": [
        "# Function to find the successor for a given node in a path\n",
        "def succ(i, k):\n",
        "    for j in range(len(k)):\n",
        "        if k[j] == i:\n",
        "            a = k[j + 1]\n",
        "            return a"
      ],
      "metadata": {
        "id": "MpHbZXR9Wl5S"
      },
      "execution_count": 39,
      "outputs": []
    },
    {
      "cell_type": "code",
      "source": [
        "# Function to calculate the optimal path and its maximum weight\n",
        "def calculate_optimal_path(paths, start_node, end_node, graph, NV, lg, AS, NTL, S, a, b, c, d):\n",
        "    optimal_path = None\n",
        "    max_weight = 0\n",
        "\n",
        "    for k in paths:\n",
        "        X = start_node\n",
        "        W = 0  # Initialize W for each path\n",
        "\n",
        "        while succ(X, k) != end_node:\n",
        "            if nomsucc(succ(X, k), graph) >= 2:\n",
        "                Y = succ(X, k)\n",
        "                P = calculateP(graph, X, Y, NV, lg, AS, NTL, S, a, b, c, d)\n",
        "                if P == 0:\n",
        "                    break\n",
        "                else:\n",
        "                    X = succ(X, k)\n",
        "                    W += P\n",
        "            else:\n",
        "                Z = X\n",
        "                while nomsucc(succ(X, k), graph) == 1 and succ(X, k) != end_node:\n",
        "                    X = succ(X, k)\n",
        "                    P = calculateP(graph, Z, X, NV, lg, AS, NTL, S, a, b, c, d)\n",
        "                    if P == 0:\n",
        "                        break\n",
        "                    if succ(X, k) != end_node:\n",
        "                        P = 1\n",
        "                    else:\n",
        "                        P = calculateP(graph, Z, X, NV, lg, AS, NTL, S, a, b, c, d)\n",
        "                        if P == 0:\n",
        "                            break\n",
        "                    W += P\n",
        "\n",
        "        if W > max_weight:\n",
        "            max_weight = W\n",
        "            optimal_path = k\n",
        "\n",
        "    return optimal_path, max_weight"
      ],
      "metadata": {
        "id": "SipwD0gNWrGQ"
      },
      "execution_count": 40,
      "outputs": []
    },
    {
      "cell_type": "code",
      "source": [
        "# Example graph represented as an adjacency matrix\n",
        "graph = [\n",
        "    [0, 1, 1, 0],\n",
        "    [0, 0, 1, 1],\n",
        "    [0, 0, 0, 1],\n",
        "    [0, 0, 0, 0]\n",
        "]\n",
        "\n",
        "# Parameters\n",
        "start_node = 0\n",
        "end_node = 3\n",
        "seuil = [\n",
        "    [0, 1, 2, 0],\n",
        "    [0, 0, 3, 4],\n",
        "    [0, 0, 0, 5],\n",
        "    [0, 0, 0, 0]\n",
        "]\n",
        "NV = [\n",
        "    [0, 2, 3, 0],\n",
        "    [0, 0, 4, 5],\n",
        "    [0, 0, 0, 6],\n",
        "    [0, 0, 0, 0]\n",
        "]\n",
        "lg = [\n",
        "    [0, 1, 2, 0],\n",
        "    [0, 0, 3, 4],\n",
        "    [0, 0, 0, 5],\n",
        "    [0, 0, 0, 0]\n",
        "]\n",
        "AS = [\n",
        "    [0, 1, 1, 0],\n",
        "    [0, 0, 1, 1],\n",
        "    [0, 0, 0, 1],\n",
        "    [0, 0, 0, 0]\n",
        "]\n",
        "NTL = [\n",
        "    [0, 1, 2, 0],\n",
        "    [0, 0, 3, 4],\n",
        "    [0, 0, 0, 5],\n",
        "    [0, 0, 0, 0]\n",
        "]\n",
        "\n",
        "# Initialize S matrix\n",
        "S = np.ones_like(AS)\n",
        "\n",
        "# Create a MyQUEUE instance\n",
        "path_queue = MyQUEUE()\n",
        "\n",
        "# Find paths\n",
        "paths = chemins(graph, start_node, end_node, path_queue)\n",
        "print(\"All paths:\", paths)\n",
        "\n",
        "# Example usage\n",
        "optimal_path, max_weight = calculate_optimal_path(paths, start_node, end_node, graph, NV, lg, AS, NTL, S, a, b, c, d)\n",
        "\n",
        "# Print the optimal path\n",
        "if optimal_path:\n",
        "    print(\"Le chemin Optimal est le suivant: \")\n",
        "    print(optimal_path)\n",
        "    print(\"Maximum Weight:\", max_weight)"
      ],
      "metadata": {
        "colab": {
          "base_uri": "https://localhost:8080/"
        },
        "id": "Ea749-zpWssZ",
        "outputId": "c171018e-7eee-4b90-9c96-06e5a99c5f4d"
      },
      "execution_count": 41,
      "outputs": [
        {
          "output_type": "stream",
          "name": "stdout",
          "text": [
            "All paths: [[0, 1, 3], [0, 2, 3], [0, 1, 2, 3]]\n",
            "Le chemin Optimal est le suivant: \n",
            "[0, 1, 3]\n",
            "Maximum Weight: 0.5\n"
          ]
        }
      ]
    }
  ]
}